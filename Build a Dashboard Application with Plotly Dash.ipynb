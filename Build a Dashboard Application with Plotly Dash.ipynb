{
    "cells": [
        {
            "cell_type": "markdown",
            "metadata": {},
            "source": [
                "<center>\n",
                "    <img src=\"https://gitlab.com/ibm/skills-network/courses/placeholder101/-/raw/master/labs/module%201/images/IDSNlogo.png\" width=\"300\" alt=\"cognitiveclass.ai logo\"  />\n",
                "</center>\n"
            ]
        },
        {
            "cell_type": "markdown",
            "metadata": {},
            "source": [
                "# **Build a Dashboard Application with Plotly Dash**\n"
            ]
        },
        {
            "cell_type": "markdown",
            "metadata": {},
            "source": [
                "In this lab, you will be building a Plotly Dash application for users to perform interactive visual analytics on SpaceX launch data in real-time.\n",
                "\n",
                "This dashboard application contains input components such as a dropdown list and a range slider to interact with a pie chart and a scatter point chart. You will be guided to build this dashboard application via the following tasks:\n",
                "\n",
                "* TASK 1: Add a Launch Site Drop-down Input Component\n",
                "* TASK 2: Add a callback function to render success-pie-chart based on selected site dropdown\n",
                "* TASK 3: Add a Range Slider to Select Payload\n",
                "* TASK 4: Add a callback function to render the success-payload-scatter-chart scatter plot\n",
                "\n",
                "__*Note:Please take screenshots of the Dashboard and save them. Further upload your notebook to github.*__\n",
                "\n",
                "The github url and the screenshots are later required in the presentation slides.\n",
                "\n",
                "Your completed dashboard application should look like the following screenshot:"
            ]
        },
        {
            "cell_type": "markdown",
            "metadata": {},
            "source": [
                "![](https://cf-courses-data.s3.us.cloud-object-storage.appdomain.cloud/IBM-DS0321EN-SkillsNetwork/labs/module_3/images/dash_completed.PNG)\n"
            ]
        },
        {
            "cell_type": "markdown",
            "metadata": {},
            "source": [
                "After visual analysis using the dashboard, you should be able to obtain some insights to answer the following five questions:\n",
                "\n",
                "1. Which site has the largest successful launches?\n",
                "2. Which site has the highest launch success rate?\n",
                "3. Which payload range(s) has the highest launch success rate?\n",
                "4. Which payload range(s) has the lowest launch success rate?\n",
                "5. Which F9 Booster version (v1.0, v1.1, FT, B4, B5, etc.) has the highest\n",
                "\n",
                "launch success rate?\n",
                "\n",
                "**Estimated time needed**: 90 minutes\n"
            ]
        },
        {
            "cell_type": "markdown",
            "metadata": {},
            "source": [
                "### Important Notice about this lab environment"
            ]
        },
        {
            "cell_type": "markdown",
            "metadata": {},
            "source": [
                "Please be aware that sessions for this lab environment are not persisted. When you launch the Cloud IDE, you are presented with a 'dedicated computer on the cloud' exclusively for you. This is available to you as long as you are actively working on the labs. Once you close your session or it is timed out due to inactivity, you are logged off, and this dedicated computer on the cloud is deleted along with any files you may have created, downloaded or installed.\n",
                "\n",
                "The next time you launch this lab, a new environment is created for you. If you finish only part of the lab and return later, you may have to start from the beginning. So, it is a good idea to plan your time accordingly and finish your labs in a single session."
            ]
        },
        {
            "cell_type": "markdown",
            "metadata": {},
            "source": [
                "### Setup development environment"
            ]
        },
        {
            "cell_type": "markdown",
            "metadata": {},
            "source": [
                "#### Install required Python packages\n",
                "\n",
                "* Install pandas and dash"
            ]
        },
        {
            "cell_type": "code",
            "execution_count": 2,
            "metadata": {},
            "outputs": [
                {
                    "name": "stdout",
                    "output_type": "stream",
                    "text": [
                        "Requirement already satisfied: pandas in c:\\programdata\\anaconda3\\lib\\site-packages (1.3.4)\n",
                        "Collecting dash\n",
                        "  Using cached dash-2.0.0-py3-none-any.whl (7.3 MB)\n",
                        "Requirement already satisfied: python-dateutil>=2.7.3 in c:\\programdata\\anaconda3\\lib\\site-packages (from pandas) (2.8.2)\n",
                        "Requirement already satisfied: numpy>=1.17.3 in c:\\programdata\\anaconda3\\lib\\site-packages (from pandas) (1.20.3)\n",
                        "Requirement already satisfied: pytz>=2017.3 in c:\\programdata\\anaconda3\\lib\\site-packages (from pandas) (2021.3)\n",
                        "Collecting dash-html-components==2.0.0\n",
                        "  Using cached dash_html_components-2.0.0-py3-none-any.whl\n",
                        "Requirement already satisfied: plotly>=5.0.0 in c:\\programdata\\anaconda3\\lib\\site-packages (from dash) (5.5.0)\n",
                        "Requirement already satisfied: Flask>=1.0.4 in c:\\programdata\\anaconda3\\lib\\site-packages (from dash) (1.1.2)\n",
                        "Collecting dash-core-components==2.0.0\n",
                        "  Using cached dash_core_components-2.0.0-py3-none-any.whl\n",
                        "Collecting dash-table==5.0.0\n",
                        "  Using cached dash_table-5.0.0-py3-none-any.whl\n",
                        "Collecting flask-compress\n",
                        "  Using cached Flask_Compress-1.10.1-py3-none-any.whl (7.9 kB)\n",
                        "Requirement already satisfied: Jinja2>=2.10.1 in c:\\programdata\\anaconda3\\lib\\site-packages (from Flask>=1.0.4->dash) (2.11.3)\n",
                        "Requirement already satisfied: itsdangerous>=0.24 in c:\\programdata\\anaconda3\\lib\\site-packages (from Flask>=1.0.4->dash) (2.0.1)\n",
                        "Requirement already satisfied: click>=5.1 in c:\\programdata\\anaconda3\\lib\\site-packages (from Flask>=1.0.4->dash) (8.0.3)\n",
                        "Requirement already satisfied: Werkzeug>=0.15 in c:\\programdata\\anaconda3\\lib\\site-packages (from Flask>=1.0.4->dash) (2.0.2)\n",
                        "Requirement already satisfied: colorama in c:\\programdata\\anaconda3\\lib\\site-packages (from click>=5.1->Flask>=1.0.4->dash) (0.4.4)\n",
                        "Requirement already satisfied: MarkupSafe>=0.23 in c:\\programdata\\anaconda3\\lib\\site-packages (from Jinja2>=2.10.1->Flask>=1.0.4->dash) (1.1.1)\n",
                        "Requirement already satisfied: six in c:\\programdata\\anaconda3\\lib\\site-packages (from plotly>=5.0.0->dash) (1.16.0)\n",
                        "Requirement already satisfied: tenacity>=6.2.0 in c:\\programdata\\anaconda3\\lib\\site-packages (from plotly>=5.0.0->dash) (8.0.1)\n",
                        "Requirement already satisfied: brotli in c:\\programdata\\anaconda3\\lib\\site-packages (from flask-compress->dash) (1.0.9)\n",
                        "Installing collected packages: flask-compress, dash-table, dash-html-components, dash-core-components, dash\n",
                        "Successfully installed dash-2.0.0 dash-core-components-2.0.0 dash-html-components-2.0.0 dash-table-5.0.0 flask-compress-1.10.1\n"
                    ]
                },
                {
                    "name": "stderr",
                    "output_type": "stream",
                    "text": [
                        "WARNING: Ignoring invalid distribution -lalchemy (c:\\programdata\\anaconda3\\lib\\site-packages)\n",
                        "WARNING: Ignoring invalid distribution -qlalchemy (c:\\programdata\\anaconda3\\lib\\site-packages)\n",
                        "WARNING: Ignoring invalid distribution - (c:\\programdata\\anaconda3\\lib\\site-packages)\n",
                        "WARNING: Ignoring invalid distribution -lalchemy (c:\\programdata\\anaconda3\\lib\\site-packages)\n",
                        "WARNING: Ignoring invalid distribution -qlalchemy (c:\\programdata\\anaconda3\\lib\\site-packages)\n",
                        "WARNING: Ignoring invalid distribution - (c:\\programdata\\anaconda3\\lib\\site-packages)\n",
                        "WARNING: Ignoring invalid distribution -lalchemy (c:\\programdata\\anaconda3\\lib\\site-packages)\n",
                        "WARNING: Ignoring invalid distribution -qlalchemy (c:\\programdata\\anaconda3\\lib\\site-packages)\n",
                        "WARNING: Ignoring invalid distribution - (c:\\programdata\\anaconda3\\lib\\site-packages)\n",
                        "WARNING: Ignoring invalid distribution -lalchemy (c:\\programdata\\anaconda3\\lib\\site-packages)\n",
                        "WARNING: Ignoring invalid distribution -qlalchemy (c:\\programdata\\anaconda3\\lib\\site-packages)\n",
                        "WARNING: Ignoring invalid distribution - (c:\\programdata\\anaconda3\\lib\\site-packages)\n",
                        "WARNING: Ignoring invalid distribution -lalchemy (c:\\programdata\\anaconda3\\lib\\site-packages)\n",
                        "WARNING: Ignoring invalid distribution -qlalchemy (c:\\programdata\\anaconda3\\lib\\site-packages)\n",
                        "WARNING: Ignoring invalid distribution - (c:\\programdata\\anaconda3\\lib\\site-packages)\n",
                        "WARNING: Ignoring invalid distribution -lalchemy (c:\\programdata\\anaconda3\\lib\\site-packages)\n",
                        "WARNING: Ignoring invalid distribution -qlalchemy (c:\\programdata\\anaconda3\\lib\\site-packages)\n",
                        "WARNING: Ignoring invalid distribution - (c:\\programdata\\anaconda3\\lib\\site-packages)\n",
                        "WARNING: Ignoring invalid distribution -lalchemy (c:\\programdata\\anaconda3\\lib\\site-packages)\n",
                        "WARNING: Ignoring invalid distribution -qlalchemy (c:\\programdata\\anaconda3\\lib\\site-packages)\n",
                        "WARNING: Ignoring invalid distribution - (c:\\programdata\\anaconda3\\lib\\site-packages)\n",
                        "WARNING: Ignoring invalid distribution -lalchemy (c:\\programdata\\anaconda3\\lib\\site-packages)\n",
                        "WARNING: Ignoring invalid distribution -qlalchemy (c:\\programdata\\anaconda3\\lib\\site-packages)\n",
                        "WARNING: Ignoring invalid distribution - (c:\\programdata\\anaconda3\\lib\\site-packages)\n",
                        "WARNING: Ignoring invalid distribution -lalchemy (c:\\programdata\\anaconda3\\lib\\site-packages)\n",
                        "WARNING: Ignoring invalid distribution -qlalchemy (c:\\programdata\\anaconda3\\lib\\site-packages)\n",
                        "WARNING: Ignoring invalid distribution - (c:\\programdata\\anaconda3\\lib\\site-packages)\n",
                        "WARNING: Ignoring invalid distribution -lalchemy (c:\\programdata\\anaconda3\\lib\\site-packages)\n",
                        "WARNING: Ignoring invalid distribution -qlalchemy (c:\\programdata\\anaconda3\\lib\\site-packages)\n",
                        "WARNING: Ignoring invalid distribution - (c:\\programdata\\anaconda3\\lib\\site-packages)\n",
                        "WARNING: Ignoring invalid distribution -lalchemy (c:\\programdata\\anaconda3\\lib\\site-packages)\n",
                        "WARNING: Ignoring invalid distribution -qlalchemy (c:\\programdata\\anaconda3\\lib\\site-packages)\n",
                        "WARNING: Ignoring invalid distribution - (c:\\programdata\\anaconda3\\lib\\site-packages)\n"
                    ]
                },
                {
                    "name": "stdout",
                    "output_type": "stream",
                    "text": [
                        "Requirement already satisfied: pandas in c:\\programdata\\anaconda3\\lib\\site-packages (1.3.4)\n",
                        "Collecting dash\n",
                        "  Downloading dash-2.0.0-py3-none-any.whl (7.3 MB)\n",
                        "Requirement already satisfied: python-dateutil>=2.7.3 in c:\\programdata\\anaconda3\\lib\\site-packages (from pandas) (2.8.2)\n",
                        "Requirement already satisfied: numpy>=1.17.3 in c:\\programdata\\anaconda3\\lib\\site-packages (from pandas) (1.20.3)\n",
                        "Requirement already satisfied: pytz>=2017.3 in c:\\programdata\\anaconda3\\lib\\site-packages (from pandas) (2021.3)\n",
                        "Collecting dash-html-components==2.0.0\n",
                        "  Downloading dash_html_components-2.0.0.tar.gz (3.8 kB)\n",
                        "Collecting dash-table==5.0.0\n",
                        "  Downloading dash_table-5.0.0.tar.gz (3.4 kB)\n",
                        "Collecting plotly>=5.0.0\n",
                        "  Downloading plotly-5.5.0-py2.py3-none-any.whl (26.5 MB)\n",
                        "Collecting dash-core-components==2.0.0\n",
                        "  Downloading dash_core_components-2.0.0.tar.gz (3.4 kB)\n",
                        "Requirement already satisfied: Flask>=1.0.4 in c:\\programdata\\anaconda3\\lib\\site-packages (from dash) (1.1.2)\n",
                        "Collecting flask-compress\n",
                        "  Downloading Flask_Compress-1.10.1-py3-none-any.whl (7.9 kB)\n",
                        "Requirement already satisfied: Jinja2>=2.10.1 in c:\\programdata\\anaconda3\\lib\\site-packages (from Flask>=1.0.4->dash) (2.11.3)\n",
                        "Requirement already satisfied: Werkzeug>=0.15 in c:\\programdata\\anaconda3\\lib\\site-packages (from Flask>=1.0.4->dash) (2.0.2)\n",
                        "Requirement already satisfied: itsdangerous>=0.24 in c:\\programdata\\anaconda3\\lib\\site-packages (from Flask>=1.0.4->dash) (2.0.1)\n",
                        "Requirement already satisfied: click>=5.1 in c:\\programdata\\anaconda3\\lib\\site-packages (from Flask>=1.0.4->dash) (8.0.3)\n",
                        "Requirement already satisfied: colorama in c:\\programdata\\anaconda3\\lib\\site-packages (from click>=5.1->Flask>=1.0.4->dash) (0.4.4)\n",
                        "Requirement already satisfied: MarkupSafe>=0.23 in c:\\programdata\\anaconda3\\lib\\site-packages (from Jinja2>=2.10.1->Flask>=1.0.4->dash) (1.1.1)\n",
                        "Requirement already satisfied: six in c:\\programdata\\anaconda3\\lib\\site-packages (from plotly>=5.0.0->dash) (1.16.0)\n",
                        "Collecting tenacity>=6.2.0\n",
                        "  Downloading tenacity-8.0.1-py3-none-any.whl (24 kB)\n",
                        "Collecting brotli\n",
                        "  Downloading Brotli-1.0.9-cp39-cp39-win_amd64.whl (383 kB)\n",
                        "Building wheels for collected packages: dash-core-components, dash-html-components, dash-table\n",
                        "  Building wheel for dash-core-components (setup.py): started\n",
                        "  Building wheel for dash-core-components (setup.py): finished with status 'done'\n",
                        "  Created wheel for dash-core-components: filename=dash_core_components-2.0.0-py3-none-any.whl size=3821 sha256=4c1a783b4d752b6a84ee74ac937aa4591ff60a2ec255a107e7727af3e04cd3ca\n",
                        "  Stored in directory: c:\\users\\jones\\appdata\\local\\pip\\cache\\wheels\\2b\\37\\e9\\4b5a8c878a47590de4dcf6bdc5a158788a1c17bea578a3ab60\n",
                        "  Building wheel for dash-html-components (setup.py): started\n",
                        "  Building wheel for dash-html-components (setup.py): finished with status 'done'\n",
                        "  Created wheel for dash-html-components: filename=dash_html_components-2.0.0-py3-none-any.whl size=4089 sha256=be6ff166a9a7c486fc36474d4442dae703f2e2a7d253b442c7e2b1f41381465d\n",
                        "  Stored in directory: c:\\users\\jones\\appdata\\local\\pip\\cache\\wheels\\4d\\22\\3e\\d58dc9820aeffc7b7193d04a63b08f585eef4a1ce836d69141\n",
                        "  Building wheel for dash-table (setup.py): started\n",
                        "  Building wheel for dash-table (setup.py): finished with status 'done'\n",
                        "  Created wheel for dash-table: filename=dash_table-5.0.0-py3-none-any.whl size=3911 sha256=3702bce7232a14282732ac8de2bb62756e42aa920994a3c2e75925459dd4fc4c\n",
                        "  Stored in directory: c:\\users\\jones\\appdata\\local\\pip\\cache\\wheels\\1f\\91\\7e\\015c42538da07aeb06576caca14da7c7416e9275a51fc85811\n",
                        "Successfully built dash-core-components dash-html-components dash-table\n",
                        "Installing collected packages: tenacity, brotli, plotly, flask-compress, dash-table, dash-html-components, dash-core-components, dash\n",
                        "Successfully installed brotli-1.0.9 dash-2.0.0 dash-core-components-2.0.0 dash-html-components-2.0.0 dash-table-5.0.0 flask-compress-1.10.1 plotly-5.5.0 tenacity-8.0.1\n"
                    ]
                },
                {
                    "name": "stderr",
                    "output_type": "stream",
                    "text": [
                        "WARNING: Ignoring invalid distribution -lalchemy (c:\\programdata\\anaconda3\\lib\\site-packages)\n",
                        "WARNING: Ignoring invalid distribution -qlalchemy (c:\\programdata\\anaconda3\\lib\\site-packages)\n",
                        "WARNING: Ignoring invalid distribution - (c:\\programdata\\anaconda3\\lib\\site-packages)\n",
                        "WARNING: Ignoring invalid distribution -lalchemy (c:\\programdata\\anaconda3\\lib\\site-packages)\n",
                        "WARNING: Ignoring invalid distribution -qlalchemy (c:\\programdata\\anaconda3\\lib\\site-packages)\n",
                        "WARNING: Ignoring invalid distribution - (c:\\programdata\\anaconda3\\lib\\site-packages)\n",
                        "WARNING: Ignoring invalid distribution -lalchemy (c:\\programdata\\anaconda3\\lib\\site-packages)\n",
                        "WARNING: Ignoring invalid distribution -qlalchemy (c:\\programdata\\anaconda3\\lib\\site-packages)\n",
                        "WARNING: Ignoring invalid distribution - (c:\\programdata\\anaconda3\\lib\\site-packages)\n",
                        "WARNING: Ignoring invalid distribution -lalchemy (c:\\programdata\\anaconda3\\lib\\site-packages)\n",
                        "WARNING: Ignoring invalid distribution -qlalchemy (c:\\programdata\\anaconda3\\lib\\site-packages)\n",
                        "WARNING: Ignoring invalid distribution - (c:\\programdata\\anaconda3\\lib\\site-packages)\n",
                        "WARNING: Ignoring invalid distribution -lalchemy (c:\\programdata\\anaconda3\\lib\\site-packages)\n",
                        "WARNING: Ignoring invalid distribution -qlalchemy (c:\\programdata\\anaconda3\\lib\\site-packages)\n",
                        "WARNING: Ignoring invalid distribution - (c:\\programdata\\anaconda3\\lib\\site-packages)\n",
                        "WARNING: Ignoring invalid distribution -lalchemy (c:\\programdata\\anaconda3\\lib\\site-packages)\n",
                        "WARNING: Ignoring invalid distribution -qlalchemy (c:\\programdata\\anaconda3\\lib\\site-packages)\n",
                        "WARNING: Ignoring invalid distribution - (c:\\programdata\\anaconda3\\lib\\site-packages)\n",
                        "WARNING: Ignoring invalid distribution -lalchemy (c:\\programdata\\anaconda3\\lib\\site-packages)\n",
                        "WARNING: Ignoring invalid distribution -qlalchemy (c:\\programdata\\anaconda3\\lib\\site-packages)\n",
                        "WARNING: Ignoring invalid distribution - (c:\\programdata\\anaconda3\\lib\\site-packages)\n",
                        "WARNING: Ignoring invalid distribution -lalchemy (c:\\programdata\\anaconda3\\lib\\site-packages)\n",
                        "WARNING: Ignoring invalid distribution -qlalchemy (c:\\programdata\\anaconda3\\lib\\site-packages)\n",
                        "WARNING: Ignoring invalid distribution - (c:\\programdata\\anaconda3\\lib\\site-packages)\n",
                        "WARNING: Ignoring invalid distribution -lalchemy (c:\\programdata\\anaconda3\\lib\\site-packages)\n",
                        "WARNING: Ignoring invalid distribution -qlalchemy (c:\\programdata\\anaconda3\\lib\\site-packages)\n",
                        "WARNING: Ignoring invalid distribution - (c:\\programdata\\anaconda3\\lib\\site-packages)\n",
                        "WARNING: Ignoring invalid distribution -lalchemy (c:\\programdata\\anaconda3\\lib\\site-packages)\n",
                        "WARNING: Ignoring invalid distribution -qlalchemy (c:\\programdata\\anaconda3\\lib\\site-packages)\n",
                        "WARNING: Ignoring invalid distribution - (c:\\programdata\\anaconda3\\lib\\site-packages)\n",
                        "WARNING: Ignoring invalid distribution -lalchemy (c:\\programdata\\anaconda3\\lib\\site-packages)\n",
                        "WARNING: Ignoring invalid distribution -qlalchemy (c:\\programdata\\anaconda3\\lib\\site-packages)\n",
                        "WARNING: Ignoring invalid distribution - (c:\\programdata\\anaconda3\\lib\\site-packages)\n",
                        "WARNING: Ignoring invalid distribution -lalchemy (c:\\programdata\\anaconda3\\lib\\site-packages)\n",
                        "WARNING: Ignoring invalid distribution -qlalchemy (c:\\programdata\\anaconda3\\lib\\site-packages)\n",
                        "WARNING: Ignoring invalid distribution - (c:\\programdata\\anaconda3\\lib\\site-packages)\n",
                        "WARNING: Ignoring invalid distribution -lalchemy (c:\\programdata\\anaconda3\\lib\\site-packages)\n",
                        "WARNING: Ignoring invalid distribution -qlalchemy (c:\\programdata\\anaconda3\\lib\\site-packages)\n",
                        "WARNING: Ignoring invalid distribution - (c:\\programdata\\anaconda3\\lib\\site-packages)\n",
                        "WARNING: Ignoring invalid distribution -lalchemy (c:\\programdata\\anaconda3\\lib\\site-packages)\n",
                        "WARNING: Ignoring invalid distribution -qlalchemy (c:\\programdata\\anaconda3\\lib\\site-packages)\n",
                        "WARNING: Ignoring invalid distribution - (c:\\programdata\\anaconda3\\lib\\site-packages)\n"
                    ]
                }
            ],
            "source": [
                "!pip install pandas dash"
            ]
        },
        {
            "cell_type": "markdown",
            "metadata": {},
            "source": [
                "### Download a skeleton dashboard application and dataset\n",
                "\n",
                "First, let's get the SpaceX Launch dataset for this lab:\n",
                "\n",
                "* Run the following *wget* command line in the terminal to download dataset as *spacex_launch_dash.csv*"
            ]
        },
        {
            "cell_type": "code",
            "execution_count": 3,
            "metadata": {},
            "outputs": [
                {
                    "ename": "SyntaxError",
                    "evalue": "invalid syntax (Temp/ipykernel_21824/1242564247.py, line 1)",
                    "output_type": "error",
                    "traceback": [
                        "\u001b[1;36m  File \u001b[1;32m\"C:\\Users\\jones\\AppData\\Local\\Temp/ipykernel_21824/1242564247.py\"\u001b[1;36m, line \u001b[1;32m1\u001b[0m\n\u001b[1;33m    wget \"https://cf-courses-data.s3.us.cloud-object-storage.appdomain.cloud/IBM-DS0321EN-SkillsNetwork/datasets/spacex_launch_dash.csv\"\u001b[0m\n\u001b[1;37m         ^\u001b[0m\n\u001b[1;31mSyntaxError\u001b[0m\u001b[1;31m:\u001b[0m invalid syntax\n"
                    ]
                }
            ],
            "source": [
                "wget \"https://cf-courses-data.s3.us.cloud-object-storage.appdomain.cloud/IBM-DS0321EN-SkillsNetwork/datasets/spacex_launch_dash.csv\""
            ]
        },
        {
            "cell_type": "markdown",
            "metadata": {},
            "source": [
                "* Download a skeleton Dash app to be completed in this lab"
            ]
        },
        {
            "cell_type": "code",
            "execution_count": 5,
            "metadata": {},
            "outputs": [
                {
                    "ename": "SyntaxError",
                    "evalue": "invalid syntax (Temp/ipykernel_21824/2659919387.py, line 1)",
                    "output_type": "error",
                    "traceback": [
                        "\u001b[1;36m  File \u001b[1;32m\"C:\\Users\\jones\\AppData\\Local\\Temp/ipykernel_21824/2659919387.py\"\u001b[1;36m, line \u001b[1;32m1\u001b[0m\n\u001b[1;33m    wget \"https://cf-courses-data.s3.us.cloud-object-storage.appdomain.cloud/IBM-DS0321EN-SkillsNetwork/labs/module_3/spacex_dash_app.py\"\u001b[0m\n\u001b[1;37m         ^\u001b[0m\n\u001b[1;31mSyntaxError\u001b[0m\u001b[1;31m:\u001b[0m invalid syntax\n"
                    ]
                }
            ],
            "source": [
                "wget \"https://cf-courses-data.s3.us.cloud-object-storage.appdomain.cloud/IBM-DS0321EN-SkillsNetwork/labs/module_3/spacex_dash_app.py\""
            ]
        },
        {
            "cell_type": "markdown",
            "metadata": {},
            "source": [
                "* Test the skeleton app by running the following code in the terminal"
            ]
        },
        {
            "cell_type": "code",
            "execution_count": null,
            "metadata": {},
            "outputs": [],
            "source": [
                "python3 spacex_dash_app.py"
            ]
        }
    ],
    "metadata": {
        "kernelspec": {
            "display_name": "Python 3.7",
            "language": "python",
            "name": "python3"
        },
        "language_info": {
            "codemirror_mode": {
                "name": "ipython",
                "version": 3
            },
            "file_extension": ".py",
            "mimetype": "text/x-python",
            "name": "python",
            "nbconvert_exporter": "python",
            "pygments_lexer": "ipython3",
            "version": "3.9.7"
        }
    },
    "nbformat": 4,
    "nbformat_minor": 4
}
